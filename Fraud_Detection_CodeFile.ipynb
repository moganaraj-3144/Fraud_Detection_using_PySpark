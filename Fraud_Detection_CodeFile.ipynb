{
 "cells": [
  {
   "cell_type": "code",
   "execution_count": 0,
   "metadata": {
    "application/vnd.databricks.v1+cell": {
     "cellMetadata": {
      "byteLimit": 2048000,
      "rowLimit": 10000
     },
     "inputWidgets": {},
     "nuid": "e6c8dcc4-001b-466a-aac2-ccdff2b5ea0f",
     "showTitle": false,
     "tableResultSettingsMap": {},
     "title": ""
    }
   },
   "outputs": [
    {
     "output_type": "stream",
     "name": "stdout",
     "output_type": "stream",
     "text": [
      "Python interpreter will be restarted.\nCollecting imbalanced-learn\n  Downloading imbalanced_learn-0.12.4-py3-none-any.whl (258 kB)\nRequirement already satisfied: scikit-learn>=1.0.2 in /databricks/python3/lib/python3.9/site-packages (from imbalanced-learn) (1.0.2)\nRequirement already satisfied: joblib>=1.1.1 in /databricks/python3/lib/python3.9/site-packages (from imbalanced-learn) (1.1.1)\nRequirement already satisfied: threadpoolctl>=2.0.0 in /databricks/python3/lib/python3.9/site-packages (from imbalanced-learn) (2.2.0)\nRequirement already satisfied: scipy>=1.5.0 in /databricks/python3/lib/python3.9/site-packages (from imbalanced-learn) (1.7.3)\nRequirement already satisfied: numpy>=1.17.3 in /databricks/python3/lib/python3.9/site-packages (from imbalanced-learn) (1.21.5)\nInstalling collected packages: imbalanced-learn\nSuccessfully installed imbalanced-learn-0.12.4\nPython interpreter will be restarted.\n"
     ]
    }
   ],
   "source": [
    "pip install imbalanced-learn"
   ]
  },
  {
   "cell_type": "code",
   "execution_count": 0,
   "metadata": {
    "application/vnd.databricks.v1+cell": {
     "cellMetadata": {
      "byteLimit": 2048000,
      "rowLimit": 10000
     },
     "inputWidgets": {},
     "nuid": "1c9b1b92-02e1-4f37-94e6-c0b1cd459aad",
     "showTitle": false,
     "tableResultSettingsMap": {},
     "title": ""
    }
   },
   "outputs": [
    {
     "output_type": "stream",
     "name": "stdout",
     "output_type": "stream",
     "text": [
      "Python interpreter will be restarted.\nCollecting xgboost\n  Downloading xgboost-2.1.3-py3-none-manylinux_2_28_x86_64.whl (153.9 MB)\nCollecting nvidia-nccl-cu12\n  Downloading nvidia_nccl_cu12-2.25.1-py3-none-manylinux2014_x86_64.manylinux_2_17_x86_64.whl (201.4 MB)\nRequirement already satisfied: scipy in /databricks/python3/lib/python3.9/site-packages (from xgboost) (1.7.3)\nRequirement already satisfied: numpy in /databricks/python3/lib/python3.9/site-packages (from xgboost) (1.21.5)\nInstalling collected packages: nvidia-nccl-cu12, xgboost\nSuccessfully installed nvidia-nccl-cu12-2.25.1 xgboost-2.1.3\nPython interpreter will be restarted.\n"
     ]
    }
   ],
   "source": [
    "%pip install xgboost"
   ]
  },
  {
   "cell_type": "code",
   "execution_count": 0,
   "metadata": {
    "application/vnd.databricks.v1+cell": {
     "cellMetadata": {
      "byteLimit": 2048000,
      "rowLimit": 10000
     },
     "inputWidgets": {},
     "nuid": "eaaee7f9-e8d7-434b-a3e9-37293b7a3f4c",
     "showTitle": false,
     "tableResultSettingsMap": {},
     "title": ""
    }
   },
   "outputs": [
    {
     "output_type": "display_data",
     "data": {
      "application/vnd.databricks.v1+bamboolib_hint": "{\"pd.DataFrames\": [], \"version\": \"0.0.1\"}",
      "text/plain": []
     },
     "metadata": {},
     "output_type": "display_data"
    }
   ],
   "source": [
    "import matplotlib.pyplot as plt\n",
    "import pandas as pd\n",
    "from pyspark.sql import SparkSession\n",
    "from pyspark.sql.functions import col, when\n",
    "from pyspark.ml.feature import StringIndexer, VectorAssembler, StandardScaler\n",
    "from pyspark.ml.classification import LogisticRegression, RandomForestClassifier\n",
    "from pyspark.ml.evaluation import BinaryClassificationEvaluator\n",
    "from pyspark.ml import Pipeline\n",
    "from imblearn.over_sampling import SMOTE\n",
    "import numpy as np\n",
    "import seaborn as sns\n",
    "from pyspark.ml.linalg import Vectors \n"
   ]
  },
  {
   "cell_type": "code",
   "execution_count": 0,
   "metadata": {
    "application/vnd.databricks.v1+cell": {
     "cellMetadata": {
      "byteLimit": 2048000,
      "rowLimit": 10000
     },
     "inputWidgets": {},
     "nuid": "51219d72-2dab-4d55-bb35-55315a945774",
     "showTitle": false,
     "tableResultSettingsMap": {},
     "title": ""
    }
   },
   "outputs": [],
   "source": [
    "# Load data\n",
    "df1 = spark.read.format(\"csv\").option(\"header\", \"true\").load(\"dbfs:/FileStore/shared_uploads/mrajakum@gmu.edu/fraud_dataset.csv\")\n",
    "df1 = df1.dropna()  # Drop rows with missing values"
   ]
  },
  {
   "cell_type": "code",
   "execution_count": 0,
   "metadata": {
    "application/vnd.databricks.v1+cell": {
     "cellMetadata": {
      "byteLimit": 2048000,
      "rowLimit": 10000
     },
     "inputWidgets": {},
     "nuid": "63b5078f-23a3-4a7e-ae13-28b4acacaa40",
     "showTitle": false,
     "tableResultSettingsMap": {},
     "title": ""
    }
   },
   "outputs": [
    {
     "output_type": "stream",
     "name": "stdout",
     "output_type": "stream",
     "text": [
      "Data Schema:\nroot\n |-- step: string (nullable = true)\n |-- customer: string (nullable = true)\n |-- age: string (nullable = true)\n |-- gender: string (nullable = true)\n |-- zipcodeOri: string (nullable = true)\n |-- merchant: string (nullable = true)\n |-- zipMerchant: string (nullable = true)\n |-- category: string (nullable = true)\n |-- amount: string (nullable = true)\n |-- fraud: string (nullable = true)\n |-- transaction_frequency: string (nullable = true)\n |-- avg_transaction_amount: string (nullable = true)\n |-- time_of_day: string (nullable = true)\n |-- merchant_interaction: string (nullable = true)\n |-- amount_change_pct: string (nullable = true)\n |-- zip_distance: string (nullable = true)\n |-- category_count: string (nullable = true)\n\n"
     ]
    }
   ],
   "source": [
    "print(\"Data Schema:\")\n",
    "df1.printSchema()"
   ]
  },
  {
   "cell_type": "code",
   "execution_count": 0,
   "metadata": {
    "application/vnd.databricks.v1+cell": {
     "cellMetadata": {
      "byteLimit": 2048000,
      "rowLimit": 10000
     },
     "inputWidgets": {},
     "nuid": "70aef44b-cec9-4807-bc4b-65ea158cd2e8",
     "showTitle": false,
     "tableResultSettingsMap": {},
     "title": ""
    }
   },
   "outputs": [],
   "source": [
    "# numeric_columns = ['age', 'amount', 'transaction_frequency', 'avg_transaction_amount', \n",
    "#                    'time_of_day', 'amount_change_pct', 'category_count']\n",
    "\n",
    "# df1.select(numeric_columns).describe().show()"
   ]
  },
  {
   "cell_type": "markdown",
   "metadata": {
    "application/vnd.databricks.v1+cell": {
     "cellMetadata": {
      "byteLimit": 2048000,
      "rowLimit": 10000
     },
     "inputWidgets": {},
     "nuid": "2b8f869a-dd23-4860-b630-748ce3e2bea2",
     "showTitle": false,
     "tableResultSettingsMap": {},
     "title": ""
    }
   },
   "source": [
    "## Feature Engineering "
   ]
  },
  {
   "cell_type": "code",
   "execution_count": 0,
   "metadata": {
    "application/vnd.databricks.v1+cell": {
     "cellMetadata": {
      "byteLimit": 2048000,
      "rowLimit": 10000
     },
     "inputWidgets": {},
     "nuid": "9b583bbb-28b6-4746-9de9-1e1bb6968101",
     "showTitle": false,
     "tableResultSettingsMap": {},
     "title": ""
    }
   },
   "outputs": [
    {
     "output_type": "stream",
     "name": "stdout",
     "output_type": "stream",
     "text": [
      "Before cleaning:\n+-------+--------------------+\n|summary|   amount_change_pct|\n+-------+--------------------+\n|  count|              593465|\n|   mean|            Infinity|\n| stddev|                 NaN|\n|    min|-0.00015181417944...|\n|    max|                 inf|\n+-------+--------------------+\n\nAfter cleaning:\n+-------+--------------------+\n|summary|   amount_change_pct|\n+-------+--------------------+\n|  count|              593465|\n|   mean|   4.519510203413529|\n| stddev|   136.9528402088432|\n|    min|-0.00015181417944...|\n|    max|              999.75|\n+-------+--------------------+\n\n"
     ]
    }
   ],
   "source": [
    "# Imputation using mean for column with infinite values\n",
    "\n",
    "print(\"Before cleaning:\")\n",
    "df1.select('amount_change_pct').describe().show()\n",
    "\n",
    "from pyspark.sql import functions as F\n",
    "\n",
    "# Replace inf and -inf with None (null)\n",
    "df1 = df1.withColumn(\n",
    "    'amount_change_pct',\n",
    "    F.when((F.col('amount_change_pct') == float('inf')) | (F.col('amount_change_pct') == float('-inf')), None)\n",
    "    .otherwise(F.col('amount_change_pct'))\n",
    ")\n",
    "\n",
    "# Fill NaN (None) values with the column mean\n",
    "mean_value = df1.agg(F.mean('amount_change_pct')).collect()[0][0]\n",
    "df1 = df1.fillna({'amount_change_pct': mean_value})\n",
    "\n",
    "# Check the updated column\n",
    "print(\"After cleaning:\")\n",
    "df1.select('amount_change_pct').describe().show()\n"
   ]
  },
  {
   "cell_type": "code",
   "execution_count": 0,
   "metadata": {
    "application/vnd.databricks.v1+cell": {
     "cellMetadata": {
      "byteLimit": 2048000,
      "rowLimit": 10000
     },
     "inputWidgets": {},
     "nuid": "8dbcb258-c465-4f75-abd3-e12602be56a8",
     "showTitle": false,
     "tableResultSettingsMap": {},
     "title": ""
    }
   },
   "outputs": [
    {
     "output_type": "stream",
     "name": "stdout",
     "output_type": "stream",
     "text": [
      "Out[5]: 593465"
     ]
    }
   ],
   "source": [
    "df1.count()"
   ]
  },
  {
   "cell_type": "code",
   "execution_count": 0,
   "metadata": {
    "application/vnd.databricks.v1+cell": {
     "cellMetadata": {
      "byteLimit": 2048000,
      "rowLimit": 10000
     },
     "inputWidgets": {},
     "nuid": "7d9f66a5-d493-4866-83c3-d519ceb12226",
     "showTitle": false,
     "tableResultSettingsMap": {},
     "title": ""
    }
   },
   "outputs": [],
   "source": [
    "# Cast numeric columns to DoubleType\n",
    "\n",
    "numeric_columns = ['age', 'amount', 'transaction_frequency', 'avg_transaction_amount', \n",
    "                   'time_of_day', 'amount_change_pct', 'category_count']\n",
    "for col_name in numeric_columns:\n",
    "    df1 = df1.withColumn(col_name, col(col_name).cast(\"double\"))\n",
    "\n",
    "# Cast fraud column to IntegerType\n",
    "df1 = df1.withColumn('fraud', col('fraud').cast(\"int\"))\n",
    "\n",
    "# Handle categorical columns with StringIndexer\n",
    "\n",
    "categoricalCols = [\"step\", \"gender\", \"merchant\", \"category\", \"merchant_interaction\"]\n",
    "stringIndexers = [StringIndexer(inputCol=col, outputCol=col + \"_Index\", handleInvalid=\"skip\").fit(df1) for col in categoricalCols]\n",
    "for indexer in stringIndexers:\n",
    "    df1 = indexer.transform(df1)\n",
    "\n"
   ]
  },
  {
   "cell_type": "code",
   "execution_count": 0,
   "metadata": {
    "application/vnd.databricks.v1+cell": {
     "cellMetadata": {
      "byteLimit": 2048000,
      "rowLimit": 10000
     },
     "inputWidgets": {},
     "nuid": "ccdfcb12-ded8-49f0-a104-2402d3c8a1b7",
     "showTitle": false,
     "tableResultSettingsMap": {},
     "title": ""
    }
   },
   "outputs": [],
   "source": [
    "# --- Log Transformation --- \n",
    "from pyspark.sql.functions import log, when\n",
    "\n",
    "# Apply log transformation using Spark's log function\n",
    "log_columns = ['amount', 'avg_transaction_amount', 'amount_change_pct']\n",
    "\n",
    "for col_name in log_columns:\n",
    "    df1 = df1.withColumn(f\"{col_name}_log\", when(col(col_name) > 0, log(col(col_name))).otherwise(0))\n"
   ]
  },
  {
   "cell_type": "code",
   "execution_count": 0,
   "metadata": {
    "application/vnd.databricks.v1+cell": {
     "cellMetadata": {
      "byteLimit": 2048000,
      "rowLimit": 10000
     },
     "inputWidgets": {},
     "nuid": "a1ee2615-42b3-427a-93a8-66129a8794de",
     "showTitle": false,
     "tableResultSettingsMap": {},
     "title": ""
    }
   },
   "outputs": [
    {
     "output_type": "stream",
     "name": "stdout",
     "output_type": "stream",
     "text": [
      "Assembler Inputs:  ['step_Index', 'gender_Index', 'merchant_Index', 'category_Index', 'merchant_interaction_Index', 'age', 'amount_log', 'transaction_frequency', 'avg_transaction_amount_log', 'time_of_day', 'amount_change_pct_log', 'category_count']\n"
     ]
    }
   ],
   "source": [
    "# --- Feature Assembly ---\n",
    "assemblerInputs = [col + \"_Index\" for col in categoricalCols] + [f\"{col}_log\" if col in log_columns else col for col in numeric_columns]\n",
    "print(\"Assembler Inputs: \", assemblerInputs)"
   ]
  },
  {
   "cell_type": "code",
   "execution_count": 0,
   "metadata": {
    "application/vnd.databricks.v1+cell": {
     "cellMetadata": {
      "byteLimit": 2048000,
      "rowLimit": 10000
     },
     "inputWidgets": {},
     "nuid": "474baf69-393e-46f1-a4c5-acf093818317",
     "showTitle": false,
     "tableResultSettingsMap": {},
     "title": ""
    }
   },
   "outputs": [],
   "source": [
    "# Check for missing or invalid data before assembling the vector\n",
    "for col_name in assemblerInputs:\n",
    "    df1 = df1.withColumn(col_name, when(col(col_name).isNull(), 0).otherwise(col(col_name)))\n",
    "\n",
    "# VectorAssembler to create a feature vector\n",
    "vecAssembler = VectorAssembler(inputCols=assemblerInputs, outputCol=\"features\")\n",
    "df1 = vecAssembler.transform(df1)"
   ]
  },
  {
   "cell_type": "code",
   "execution_count": 0,
   "metadata": {
    "application/vnd.databricks.v1+cell": {
     "cellMetadata": {
      "byteLimit": 2048000,
      "rowLimit": 10000
     },
     "inputWidgets": {},
     "nuid": "5e4b0d93-ca98-4ebe-ab70-d7c255dd26a8",
     "showTitle": false,
     "tableResultSettingsMap": {},
     "title": ""
    }
   },
   "outputs": [
    {
     "output_type": "stream",
     "name": "stdout",
     "output_type": "stream",
     "text": [
      "Out[10]: Row(step='0', customer='C1093826151', age=4.0, gender=\"'M'\", zipcodeOri='28007', merchant=\"'M348934600'\", zipMerchant='28007', category=\"'es_transportation'\", amount=4.55, fraud=0, transaction_frequency=167.0, avg_transaction_amount=28.24071856287425, time_of_day=0.0, merchant_interaction='154', amount_change_pct=0.0, zip_distance='0', category_count=154.0, step_Index=178.0, gender_Index=1.0, merchant_Index=1.0, category_Index=0.0, merchant_interaction_Index=154.0, amount_log=1.515127232962859, avg_transaction_amount_log=3.3407648571623123, amount_change_pct_log=0.0, features=DenseVector([178.0, 1.0, 1.0, 0.0, 154.0, 4.0, 1.5151, 167.0, 3.3408, 0.0, 0.0, 154.0]))"
     ]
    }
   ],
   "source": [
    "df1.head()\n"
   ]
  },
  {
   "cell_type": "markdown",
   "metadata": {
    "application/vnd.databricks.v1+cell": {
     "cellMetadata": {
      "byteLimit": 2048000,
      "rowLimit": 10000
     },
     "inputWidgets": {},
     "nuid": "f1fa2d01-2207-4bc1-997f-1d6cda6aebc0",
     "showTitle": false,
     "tableResultSettingsMap": {},
     "title": ""
    }
   },
   "source": [
    "## Data Split"
   ]
  },
  {
   "cell_type": "code",
   "execution_count": 0,
   "metadata": {
    "application/vnd.databricks.v1+cell": {
     "cellMetadata": {
      "byteLimit": 2048000,
      "rowLimit": 10000
     },
     "inputWidgets": {},
     "nuid": "26e20803-b1a2-445b-821b-b29454789732",
     "showTitle": false,
     "tableResultSettingsMap": {},
     "title": ""
    }
   },
   "outputs": [],
   "source": [
    "# --- Data Splitting ---\n",
    "trainDF, testDF = df1.randomSplit([0.8, 0.2], seed=42)\n",
    "\n",
    "# Rename 'fraud' to 'label' to match the model's expectation\n",
    "testDF = testDF.withColumnRenamed(\"fraud\", \"label\")"
   ]
  },
  {
   "cell_type": "code",
   "execution_count": 0,
   "metadata": {
    "application/vnd.databricks.v1+cell": {
     "cellMetadata": {
      "byteLimit": 2048000,
      "rowLimit": 10000
     },
     "inputWidgets": {},
     "nuid": "408c7e45-9858-4790-9499-1d755795f76d",
     "showTitle": false,
     "tableResultSettingsMap": {},
     "title": ""
    }
   },
   "outputs": [
    {
     "output_type": "stream",
     "name": "stdout",
     "output_type": "stream",
     "text": [
      "Out[12]: Row(step='0', customer='C1093826151', age=4.0, gender=\"'M'\", zipcodeOri='28007', merchant=\"'M348934600'\", zipMerchant='28007', category=\"'es_transportation'\", amount=4.55, fraud=0, transaction_frequency=167.0, avg_transaction_amount=28.24071856287425, time_of_day=0.0, merchant_interaction='154', amount_change_pct=0.0, zip_distance='0', category_count=154.0, step_Index=178.0, gender_Index=1.0, merchant_Index=1.0, category_Index=0.0, merchant_interaction_Index=154.0, amount_log=1.515127232962859, avg_transaction_amount_log=3.3407648571623123, amount_change_pct_log=0.0, features=DenseVector([178.0, 1.0, 1.0, 0.0, 154.0, 4.0, 1.5151, 167.0, 3.3408, 0.0, 0.0, 154.0]))"
     ]
    }
   ],
   "source": [
    "df1.head()"
   ]
  },
  {
   "cell_type": "markdown",
   "metadata": {
    "application/vnd.databricks.v1+cell": {
     "cellMetadata": {
      "byteLimit": 2048000,
      "rowLimit": 10000
     },
     "inputWidgets": {},
     "nuid": "ad7ef58f-a5ac-4dfd-ae34-11d7bac00629",
     "showTitle": false,
     "tableResultSettingsMap": {},
     "title": ""
    }
   },
   "source": [
    "## Handling class imbalance"
   ]
  },
  {
   "cell_type": "code",
   "execution_count": 0,
   "metadata": {
    "application/vnd.databricks.v1+cell": {
     "cellMetadata": {
      "byteLimit": 2048000,
      "rowLimit": 10000
     },
     "inputWidgets": {},
     "nuid": "3e2a6a0d-9bd7-4143-bd05-29225cf73aea",
     "showTitle": false,
     "tableResultSettingsMap": {},
     "title": ""
    }
   },
   "outputs": [
    {
     "output_type": "stream",
     "name": "stdout",
     "output_type": "stream",
     "text": [
      "Row(fraud=1, count=7193)\n"
     ]
    },
    {
     "output_type": "display_data",
     "data": {
      "image/png": "[encoded data removed]"
     },
     "metadata": {
      "application/vnd.databricks.v1+output": {
       "addedWidgets": {},
       "arguments": {},
       "data": "data:image/png;base64,iVBORw0KGgoAAAANSUhEUgAAAncAAAGDCAYAAABJITbwAAAAOXRFWHRTb2Z0d2FyZQBNYXRwbG90bGliIHZlcnNpb24zLjUuMSwgaHR0cHM6Ly9tYXRwbG90bGliLm9yZy/YYfK9AAAACXBIWXMAAAsTAAALEwEAmpwYAAAgaklEQVR4nO3de7SdVX3u8e8jiFCVm6QRCZq05LQDe6rFLaJtrdUeCLY2nNZSlZaUUtJW7WmPV7yiaDuwN5UW6WCIAh5v1ErBikWKVmsrysYLCEiJJjSJIoEEUKwX8Hf+eGdgsd17Z+eyssnk+xljjf2uOec751wrm+RhzvddK1WFJEmS+vCg+Z6AJEmSdhzDnSRJUkcMd5IkSR0x3EmSJHXEcCdJktQRw50kSVJHDHdSx5K8Lsn/m+95jErykSQrdlBfP5/k+pHna5L80o7ou/V3TZKn7aj+Rvr91yS/t43nLkzyySTfTPJXO3puU8Z6WpJ123ju4iSVZPcdPa+RMR6d5FtJdhvXGNKuaGz/0UnaOZI8D3gR8JPAN4EvAH9aVZ+ah7kU8G2ggO+2uZxVVe/f3Kaqjt6KvpZW1aqZ2lTVvwE/sT1zHhnvHGBdVb16pP/H7oi+d7CVwC3A3vUA/6DSqvov4GHzPQ/p/saVO2kXluRFwFuAPwMWAo8G3gYsn8dpPa6qHsYQus4B/jbJKTt6kHGuCN3PPQa4dluC3QP4PZMeUAx30i4qyT7AqcALquqDVXVnVX2/qj5UVS+d4Zy/T3JTktvb1t5jR+qemeTatt23PslLWvkBSf4pyW1JNib5tyRb/Lujqm6pqncBfwi8IskjWn/3bEkmOSTJJ9p8bkny/lb+ydbNF9u2229u3iJM8vIkNwHvnGHb8IntdWxK8s4ke7Y+fyfJfVYz27bhIUlWAscBL2vjfajV37PNm+QhSd6S5Gvt8ZYkD2l1m+f24iQ3J/l6khO28Bb9eJLPJrkjyYVJ9h+Z1xFJ/qO951/cvDXcVhdXjMzzl+Y4r9H37EFJTk7ylSS3Jjl/dOzpJHll+/NZk+S4kfJfTvL59hrWJnndLH2ckOS69vv11SS/P1I36/uXZK8kf5Xkxva78qlWdp+t3/a79YYk/97G+WiSA0b6Ob71cWuS12QHb+NL9xeGO2nX9WRgT+CCrTjnI8BS4EeBzwHvHqk7G/j9qno48FPAx1r5i4F1wAKG1cFXMmy7ztWFDJeAHD5N3RuAjwL7AYuAvwGoqqe2+sdV1cNGtnUfCezPsHq1cobxjgOOAn4c+B/Aq2dod4+qOovhvfjzNt6zpmn2KuAI4PHA49rrGe37kcA+wEHAicAZSfabZdjjgd8FDgTuAk4HSHIQ8GHgjQyv9SXAPyRZUFW/M2We/zLHeY2+Z38EHAP8AvAoYBNwxizzfCRwQHtdK4CzkmzeCr+zvY59gV8G/jDJMTP0czPwK8DewAnAm5McNmWcmd6/vwSeADylvZaXAT+YYZzntf5/FNiD4f0jyaEMq9rHMbznm8eSumO4k3ZdjwBuqaq75npCVb2jqr5ZVd8FXgc8LsMKIMD3gUOT7F1Vm6rqcyPlBwKPaSuD/7Y1W4JV9X2Ga8SmWx36PkPoeFRVfWcO1wn+ADilqr5bVf89Q5u/raq1VbUR+FPguXOd6xYcB5xaVTdX1Qbg9cBvj9R/v9V/v6ouBr7F7NcDvquqvlRVdwKvAY7NcGPAbwEXV9XFVfWDqroUmASeuY3zmvqe/QHwqqpaN/J78OzMvmX7mnb+JxiC57EAVfWvVXV1m+dVwHsZQuMPqaoPV9VXavAJhlD/8yNNpn3/MqwS/y7wx1W1vqrurqr/aHOfzjur6j/baz2fIfQCPBv4UFV9qqq+B7yWrfufFGmXYbiTdl23Agds4R/leyTZLclpbTvuDmBNq9q8bfXrDAHixgxbpU9u5X8BrAI+2rbTTt6aSSZ5MMOq38Zpql8GBPhshjtTf3cL3W2oqu9soc3akeMbGVandoRHtf5m6vvWKUH728x+sf/UeT6Y4c/iMcBvtC3Z25LcBvwcQ8DelnlNfc8eA1ww0vd1wN0Mq7LT2dQC6A/1n+RJST6eZEOS2xmC4wHTdZLk6CSXZ9jav43hd2207Uzv3wEMK9RfmWF+U900TR+0Od/znlfVtxn+G5K6Y7iTdl2fZrgj9Zg5tn8ew40Wv8SwJbW4lQegqq6oquUM21n/yLDqQVvpe3FV/Rjwq8CLkjxjK+a5nGHb8bNTK6rqpqo6qaoeBfw+8LYkh8zS11xWWg4eOX408LV2fCfwI5srkjxyK/v+GkMwmq7vbTF1nptXONcyrOrtO/J4aFWdto3zmvq61gJHT+l/z6paP0P/+yV56Az9vwe4CDi4qvYB/o72+zSqXQP4Dwzbqwural/g4unaTuMW4DsM2+zb4+sMW/+b57QXw+q31B3DnbSLqqrbGbaWzkhyTJIfSfLgtkLy59Oc8nCGMHgrQ8j5s80VSfZIclySfdo26h20a5qS/EqGmw4C3M6wyjPT9U73SLJ/u/j+DOBNVfVDqyRJfiPJ5n9wNzEEkc19fwP4sTm8FVO9IMmidpPAq4DN1+t9EXhsksdnuMnidVPO29J47wVenWRBu0j/tcD2fIbgbyU5NMmPMNwY84Gqurv1+awkR7XV1j3bDQeLZuhna+f1d8CfJnkMQDtvS3dXv779jvw8w3Vzf9/KHw5srKrvJDmc4X8gprMH8BBgA3BXkqOBI7cwJgBV9QPgHcBfJ3lUe0+e3ALj1vgAw/v6lCR7MPz5zyVcSrscw520C6uqv2L4jLtXM/zDuRZ4IcPK21TnMWyprQeuBS6fUv/bwJq2ZfsHDNdywXADxr8wXAP1aeBtVfXxWab1xSTfYtjK/T3g/1bVa2do+0TgM639RQzXVX211b0OOLdtHx47y3hTvYfheq6vMmzlvRGgqv6TIUT9C3ADMPX6vrMZrjm8Lck/TtPvGxmufbsKuJrhhpQ3bsW8pnoXw0fF3MSw7fh/2jzXMqx2vpJ7/0xfysx/X2/tvN7K8F5/NMk3GX4PnjRL+5sYgvfXGG7m+IOq+nKrez5wauvntbTV3qmq6pvt9Z3f+npem8NcvYThtV3BsL3/Jrby36+quobhZpL3MazifYvhJo+Zrt2TdlnZho9KkiRpl5bkYcBtDB+UvXqepyPtUK7cSZIeEJI8q12+8FCG6/+u5t4bi6RuGO4kSQ8Uyxm2l7/GcLnBc7blmz6k+zu3ZSVJkjriyp0kSVJHDHeSJEkdmdMn2z8QHHDAAbV48eL5noYkSdIWXXnllbdU1YLp6gx3zeLFi5mcnJzvaUiSJG1RkhtnqnNbVpIkqSOGO0mSpI6MNdwl2TfJB5J8Ocl17fsA909yaZIb2s/9WtskOT3JqiRXJTlspJ8Vrf0NSVaMlD8hydXtnNPbd18y0xiSJEm9G/fK3VuBf66qnwQeB1wHnAxcVlVLgcvac4CjGT5UcimwEjgThqAGnMLw3YeHA6eMhLUzgZNGzlvWymcaQ5IkqWtjC3dJ9gGeyvBl3FTV96rqNoZPCD+3NTsXOKYdLwfOq8HlwL5JDgSOAi6tqo1VtQm4FFjW6vauqsvbJ4yfN6Wv6caQJEnq2jhX7pYAG4B3Jvl8kre37/NbWFVfb21uAha244OAtSPnr2tls5Wvm6acWcaQJEnq2jjD3e7AYcCZVfUzwJ1M2R5tK25j/f6z2cZIsjLJZJLJDRs2jHMakiRJO8U4w906YF1VfaY9/wBD2PtG21Kl/by51a8HDh45f1Erm6180TTlzDLGfVTVWVU1UVUTCxZM+zmAkiRJu5SxhbuquglYm+QnWtEzgGuBi4DNd7yuAC5sxxcBx7e7Zo8Abm9bq5cARybZr91IcSRwSau7I8kR7S7Z46f0Nd0YkiRJXRv3N1T8EfDuJHsAXwVOYAiU5yc5EbgROLa1vRh4JrAK+HZrS1VtTPIG4IrW7tSq2tiOnw+cA+wFfKQ9AE6bYQxJkqSuZbgkTRMTE+XXj0mSpF1BkiuramK6Or+hQpIkqSOGO0mSpI6M+5o7zWDJkjXzPQXpAWn16sXzPQVJGitX7iRJkjpiuJMkSeqI4U6SJKkjhjtJkqSOGO4kSZI6YriTJEnqiOFOkiSpI4Y7SZKkjhjuJEmSOmK4kyRJ6ojhTpIkqSOGO0mSpI4Y7iRJkjpiuJMkSeqI4U6SJKkjhjtJkqSOGO4kSZI6YriTJEnqiOFOkiSpI4Y7SZKkjhjuJEmSOmK4kyRJ6ojhTpIkqSOGO0mSpI4Y7iRJkjpiuJMkSeqI4U6SJKkjhjtJkqSOGO4kSZI6YriTJEnqiOFOkiSpI4Y7SZKkjhjuJEmSOmK4kyRJ6ojhTpIkqSOGO0mSpI4Y7iRJkjpiuJMkSeqI4U6SJKkjhjtJkqSOGO4kSZI6MtZwl2RNkquTfCHJZCvbP8mlSW5oP/dr5UlyepJVSa5KcthIPyta+xuSrBgpf0Lrf1U7N7ONIUmS1LudsXL3i1X1+KqaaM9PBi6rqqXAZe05wNHA0vZYCZwJQ1ADTgGeBBwOnDIS1s4ETho5b9kWxpAkSerafGzLLgfObcfnAseMlJ9Xg8uBfZMcCBwFXFpVG6tqE3ApsKzV7V1Vl1dVAedN6Wu6MSRJkro27nBXwEeTXJlkZStbWFVfb8c3AQvb8UHA2pFz17Wy2crXTVM+2xiSJEld233M/f9cVa1P8qPApUm+PFpZVZWkxjmB2cZogXMlwKMf/ehxTkOSJGmnGOvKXVWtbz9vBi5guGbuG21Llfbz5tZ8PXDwyOmLWtls5YumKWeWMabO76yqmqiqiQULFmzry5QkSbrfGFu4S/LQJA/ffAwcCXwJuAjYfMfrCuDCdnwRcHy7a/YI4Pa2tXoJcGSS/dqNFEcCl7S6O5Ic0e6SPX5KX9ONIUmS1LVxbssuBC5on06yO/CeqvrnJFcA5yc5EbgROLa1vxh4JrAK+DZwAkBVbUzyBuCK1u7UqtrYjp8PnAPsBXykPQBOm2EMSZKkrmW40VQTExM1OTm508ZbsmTNThtL0r1Wr14831OQpO2W5MqRj5m7D7+hQpIkqSOGO0mSpI4Y7iRJkjpiuJMkSeqI4U6SJKkjhjtJkqSOGO4kSZI6YriTJEnqiOFOkiSpI4Y7SZKkjhjuJEmSOmK4kyRJ6ojhTpIkqSOGO0mSpI4Y7iRJkjpiuJMkSeqI4U6SJKkjhjtJkqSOGO4kSZI6YriTJEnqiOFOkiSpI4Y7SZKkjhjuJEmSOmK4kyRJ6ojhTpIkqSOGO0mSpI4Y7iRJkjpiuJMkSeqI4U6SJKkjhjtJkqSOGO4kSZI6YriTJEnqiOFOkiSpI4Y7SZKkjhjuJEmSOmK4kyRJ6ojhTpIkqSOGO0mSpI4Y7iRJkjpiuJMkSeqI4U6SJKkjhjtJkqSOGO4kSZI6YriTJEnqyNjDXZLdknw+yT+150uSfCbJqiTvT7JHK39Ie76q1S8e6eMVrfz6JEeNlC9rZauSnDxSPu0YkiRJvdsZK3d/DFw38vxNwJur6hBgE3BiKz8R2NTK39zakeRQ4DnAY4FlwNtaYNwNOAM4GjgUeG5rO9sYkiRJXRtruEuyCPhl4O3teYCnAx9oTc4FjmnHy9tzWv0zWvvlwPuq6rtVtRpYBRzeHquq6qtV9T3gfcDyLYwhSZLUtXGv3L0FeBnwg/b8EcBtVXVXe74OOKgdHwSsBWj1t7f295RPOWem8tnGkCRJ6trYwl2SXwFurqorxzXG9kqyMslkkskNGzbM93QkSZK22zhX7n4W+NUkaxi2TJ8OvBXYN8nurc0iYH07Xg8cDNDq9wFuHS2fcs5M5bfOMsZ9VNVZVTVRVRMLFizY9lcqSZJ0PzG2cFdVr6iqRVW1mOGGiI9V1XHAx4Fnt2YrgAvb8UXtOa3+Y1VVrfw57W7aJcBS4LPAFcDSdmfsHm2Mi9o5M40hSZLUtfn4nLuXAy9Ksorh+rizW/nZwCNa+YuAkwGq6hrgfOBa4J+BF1TV3e2auhcClzDcjXt+azvbGJIkSV3LsNCliYmJmpyc3GnjLVmyZqeNJeleq1cvnu8pSNJ2S3JlVU1MV+c3VEiSJHXEcCdJktQRw50kSVJHDHeSJEkdMdxJkiR1xHAnSZLUEcOdJElSRwx3kiRJHTHcSZIkdcRwJ0mS1BHDnSRJUkcMd5IkSR0x3EmSJHXEcCdJktQRw50kSVJHDHeSJEkdMdxJkiR1xHAnSZLUEcOdJElSRwx3kiRJHTHcSZIkdcRwJ0mS1BHDnSRJUkcMd5IkSR0x3EmSJHXEcCdJktQRw50kSVJHDHeSJEkdMdxJkiR1xHAnSZLUEcOdJElSR+YU7pL87FzKJEmSNL/munL3N3MskyRJ0jzafbbKJE8GngIsSPKikaq9gd3GOTFJkiRtvVnDHbAH8LDW7uEj5XcAzx7XpCRJkrRtZg13VfUJ4BNJzqmqG3fSnCRJkrSNtrRyt9lDkpwFLB49p6qePo5JSZIkadvMNdz9PfB3wNuBu8c3HUmSJG2PuYa7u6rqzLHORJIkSdttrh+F8qEkz09yYJL9Nz/GOjNJkiRttbmu3K1oP186UlbAj+3Y6UiSJGl7zCncVdWScU9EkiRJ229O4S7J8dOVV9V5O3Y6kiRJ2h5z3ZZ94sjxnsAzgM8BhjtJkqT7kTndUFFVfzTyOAk4jOGbK2aUZM8kn03yxSTXJHl9K1+S5DNJViV5f5I9WvlD2vNVrX7xSF+vaOXXJzlqpHxZK1uV5OSR8mnHkCRJ6t1c75ad6k5gS9fhfRd4elU9Dng8sCzJEcCbgDdX1SHAJuDE1v5EYFMrf3NrR5JDgecAjwWWAW9LsluS3YAzgKOBQ4HntrbMMoYkSVLX5hTuknwoyUXt8WHgeuCC2c6pwbfa0we3RwFPBz7Qys8FjmnHy9tzWv0zkqSVv6+qvltVq4FVwOHtsaqqvlpV3wPeByxv58w0hiRJUtfmes3dX44c3wXcWFXrtnRSW127EjiEYZXtK8BtVXVXa7IOOKgdHwSsBaiqu5LcDjyilV8+0u3oOWunlD+pnTPTGJIkSV2b6zV3nwC+DDwc2A/43hzPu7uqHg8sYlhp+8ltm+Z4JFmZZDLJ5IYNG+Z7OpIkSdttrtuyxwKfBX4DOBb4TJJnz3WQqroN+DjwZGDfJJtXDBcB69vxeuDgNt7uwD7AraPlU86ZqfzWWcaYOq+zqmqiqiYWLFgw15cjSZJ0vzXXGypeBTyxqlZU1fEMq3Cvme2EJAuS7NuO9wL+F3AdQ8jbHAxXABe244u495swng18rKqqlT+n3U27BFjKEDSvAJa2O2P3YLjp4qJ2zkxjSJIkdW2u19w9qKpuHnl+K1sOhgcC57br7h4EnF9V/5TkWuB9Sd4IfB44u7U/G3hXklXARoawRlVdk+R84FqG6/1eUFV3AyR5IXAJsBvwjqq6pvX18hnGkCRJ6lqGha4tNEr+Avhp4L2t6DeBq6rq5WOc2041MTFRk5OTO228JUvW7LSxJN1r9erF8z0FSdpuSa6sqonp6mZduUtyCLCwql6a5NeAn2tVnwbevWOnKUmSpO21pW3ZtwCvAKiqDwIfBEjyP1vds8Y4N0mSJG2lLV03t7Cqrp5a2MoWj2VGkiRJ2mZbCnf7zlK31w6chyRJknaALYW7ySQnTS1M8nsM3zwhSZKk+5EtXXP3J8AFSY7j3jA3AewB/O8xzkuSJEnbYNZwV1XfAJ6S5BeBn2rFH66qj419ZpIkSdpqc/oQ46r6OMO3PkiSJOl+bK5fPyZJkqRdgOFOkiSpI4Y7SZKkjhjuJEmSOmK4kyRJ6ojhTpIkqSOGO0mSpI4Y7iRJkjpiuJMkSeqI4U6SJKkjhjtJkqSOGO4kSZI6YriTJEnqiOFOkiSpI4Y7SZKkjhjuJEmSOmK4kyRJ6ojhTpIkqSOGO0mSpI4Y7iRJkjpiuJMkSeqI4U6SJKkjhjtJkqSOGO4kSZI6YriTJEnqiOFOkiSpI4Y7SZKkjhjuJEmSOmK4kyRJ6ojhTpIkqSOGO0mSpI4Y7iRJkjpiuJMkSeqI4U6SJKkjhjtJkqSOGO4kSZI6MrZwl+TgJB9Pcm2Sa5L8cSvfP8mlSW5oP/dr5UlyepJVSa5KcthIXyta+xuSrBgpf0KSq9s5pyfJbGNIkiT1bpwrd3cBL66qQ4EjgBckORQ4GbisqpYCl7XnAEcDS9tjJXAmDEENOAV4EnA4cMpIWDsTOGnkvGWtfKYxJEmSuja2cFdVX6+qz7XjbwLXAQcBy4FzW7NzgWPa8XLgvBpcDuyb5EDgKODSqtpYVZuAS4FlrW7vqrq8qgo4b0pf040hSZLUtZ1yzV2SxcDPAJ8BFlbV11vVTcDCdnwQsHbktHWtbLbyddOUM8sYkiRJXRt7uEvyMOAfgD+pqjtG69qKW41z/NnGSLIyyWSSyQ0bNoxzGpIkSTvFWMNdkgczBLt3V9UHW/E32pYq7efNrXw9cPDI6Yta2Wzli6Ypn22M+6iqs6pqoqomFixYsG0vUpIk6X5knHfLBjgbuK6q/nqk6iJg8x2vK4ALR8qPb3fNHgHc3rZWLwGOTLJfu5HiSOCSVndHkiPaWMdP6Wu6MSRJkrq2+xj7/lngt4Grk3yhlb0SOA04P8mJwI3Asa3uYuCZwCrg28AJAFW1MckbgCtau1OramM7fj5wDrAX8JH2YJYxJEmSupbhkjRNTEzU5OTkThtvyZI1O20sSfdavXrxfE9BkrZbkiuramK6Or+hQpIkqSOGO0mSpI4Y7iRJkjpiuJMkSeqI4U6SJKkjhjtJkqSOGO4kSZI6YriTJEnqiOFOkiSpI4Y7SZKkjhjuJEmSOmK4kyRJ6ojhTpIkqSOGO0mSpI4Y7iRJkjpiuJMkSeqI4U6SJKkjhjtJkqSOGO4kSZI6YriTJEnqiOFOkiSpI4Y7SZKkjhjuJEmSOmK4kyRJ6ojhTpIkqSOGO0mSpI4Y7iRJkjpiuJMkSeqI4U6SJKkjhjtJkqSOGO4kSZI6YriTJEnqiOFOkiSpI4Y7SZKkjhjuJEmSOmK4kyRJ6ojhTpIkqSOGO0mSpI4Y7iRJkjpiuJMkSeqI4U6SJKkjhjtJkqSOGO4kSZI6YriTJEnqyNjCXZJ3JLk5yZdGyvZPcmmSG9rP/Vp5kpyeZFWSq5IcNnLOitb+hiQrRsqfkOTqds7pSTLbGJIkSQ8E41y5OwdYNqXsZOCyqloKXNaeAxwNLG2PlcCZMAQ14BTgScDhwCkjYe1M4KSR85ZtYQxJkqTujS3cVdUngY1TipcD57bjc4FjRsrPq8HlwL5JDgSOAi6tqo1VtQm4FFjW6vauqsurqoDzpvQ13RiSJEnd29nX3C2sqq+345uAhe34IGDtSLt1rWy28nXTlM82hiRJUvfm7YaKtuJW8zlGkpVJJpNMbtiwYZxTkSRJ2il2drj7RttSpf28uZWvBw4eabeolc1Wvmia8tnG+CFVdVZVTVTVxIIFC7b5RUmSJN1f7OxwdxGw+Y7XFcCFI+XHt7tmjwBub1urlwBHJtmv3UhxJHBJq7sjyRHtLtnjp/Q13RiSJEnd231cHSd5L/A04IAk6xjuej0NOD/JicCNwLGt+cXAM4FVwLeBEwCqamOSNwBXtHanVtXmmzSez3BH7l7AR9qDWcaQJEnqXobL0jQxMVGTk5M7bbwlS9bstLEk3Wv16sXzPQVJ2m5Jrqyqienq/IYKSZKkjhjuJEmSOmK4kyRJ6ojhTpIkqSOGO0mSpI4Y7iRJkjpiuJMkSeqI4U6SJKkjhjtJkqSOGO4kSZI6YriTJEnqiOFOkiSpI4Y7SZKkjhjuJEmSOmK4kyRJ6ojhTpIkqSOGO0mSpI4Y7iRJkjpiuJMkSeqI4U6SJKkjhjtJkqSOGO4kSZI6YriTJEnqiOFOkiSpI4Y7SZKkjhjuJEmSOmK4kyRJ6ojhTpIkqSOGO0mSpI4Y7iRJkjpiuJMkSeqI4U6SJKkjhjtJkqSOGO4kSZI6YriTJEnqiOFOkiSpI4Y7SZKkjhjuJEmSOmK4kyRJ6ojhTpIkqSOGO0mSpI4Y7iRJkjpiuJMkSeqI4U6SJKkju8/3BMYlyTLgrcBuwNur6rR5npIkjd2SJWvmewrSA9Lq1Yvnewr36HLlLsluwBnA0cChwHOTHDq/s5IkSRq/LsMdcDiwqqq+WlXfA94HLJ/nOUmSJI1dr+HuIGDtyPN1rUySJKlr3V5zNxdJVgIr29NvJbl+PuejXcYBwC3zPQltm2S+ZyDNyL9bdmHz8HfLY2aq6DXcrQcOHnm+qJXdR1WdBZy1syalPiSZrKqJ+Z6HpL74d4t2lF63Za8AliZZkmQP4DnARfM8J0mSpLHrcuWuqu5K8kLgEoaPQnlHVV0zz9OSJEkauy7DHUBVXQxcPN/zUJfcypc0Dv7doh0iVTXfc5AkSdIO0us1d5IkSQ9IhjtpKyRZluT6JKuSnDzf85G060vyjiQ3J/nSfM9FfTDcSXPk19pJGpNzgGXzPQn1w3AnzZ1faydph6uqTwIb53se6ofhTpo7v9ZOknS/Z7iTJEnqiOFOmrs5fa2dJEnzyXAnzZ1faydJut8z3ElzVFV3AZu/1u464Hy/1k7S9kryXuDTwE8kWZfkxPmek3ZtfkOFJElSR1y5kyRJ6ojhTpIkqSOGO0mSpI4Y7iRJkjpiuJMkSeqI4U6S5ijJ3Um+MPJYPIYx1iQ5YEf3K+mBY/f5noAk7UL+u6oeP11FkjB8vNQPdu6UJOm+XLmTpG2UZHGS65OcB3wJODjJmUkmk1yT5PUjbe9ZkUsykeRf2/Ejkny0tX87kPl4LZL6YbiTpLnba2RL9oJWthR4W1U9tqpuBF5VVRPATwO/kOSnt9DnKcCnquqxwAXAo8c2e0kPCG7LStLc3Wdbtl1zd2NVXT7S5tgkKxn+fj0QOBS4apY+nwr8GkBVfTjJph09aUkPLIY7Sdo+d24+SLIEeAnwxKralOQcYM9WfRf37pbsiSSNiduykrTj7M0Q9m5PshA4eqRuDfCEdvzrI+WfBJ4HkORoYL/xT1NSzwx3krSDVNUXgc8DXwbeA/z7SPXrgbcmmQTunlL+1CTXMGzP/tdOmq6kTqWq5nsOkiRJ2kFcuZMkSeqI4U6SJKkjhjtJkqSOGO4kSZI6YriTJEnqiOFOkiSpI4Y7SZKkjhjuJEmSOvL/ATrzMNTOv7XpAAAAAElFTkSuQmCC\n",
       "datasetInfos": [],
       "metadata": {},
       "removedWidgets": [],
       "type": "image"
      }
     },
     "output_type": "display_data"
    }
   ],
   "source": [
    "# Calculate the counts of each fraud class\n",
    "fraud_counts = df1.groupBy(\"fraud\").count()\n",
    "print(fraud_counts.head())\n",
    "\n",
    "# Convert to Pandas for plotting\n",
    "fraud_counts_pandas = fraud_counts.toPandas()\n",
    "\n",
    "plt.figure(figsize=(10, 6))\n",
    "sns.barplot(x='fraud', y='count', data=fraud_counts_pandas, color='blue')\n",
    "plt.title('Class Distribution before balancing')\n",
    "plt.xlabel('Fraud')\n",
    "plt.ylabel('Count')\n",
    "plt.show()"
   ]
  },
  {
   "cell_type": "code",
   "execution_count": 0,
   "metadata": {
    "application/vnd.databricks.v1+cell": {
     "cellMetadata": {
      "byteLimit": 2048000,
      "rowLimit": 10000
     },
     "inputWidgets": {},
     "nuid": "b34e5b22-449a-4eac-b7a1-5857476c097f",
     "showTitle": false,
     "tableResultSettingsMap": {},
     "title": ""
    }
   },
   "outputs": [
    {
     "output_type": "stream",
     "name": "stderr",
     "output_type": "stream",
     "text": [
      "/databricks/spark/python/pyspark/sql/pandas/conversion.py:122: UserWarning: toPandas attempted Arrow optimization because 'spark.sql.execution.arrow.pyspark.enabled' is set to true; however, failed by the reason below:\n  Unable to convert the field features. If this column is not necessary, you may consider dropping it or converting to primitive type before the conversion.\nDirect cause: Unsupported type in conversion to Arrow: VectorUDT()\nAttempting non-optimization as 'spark.sql.execution.arrow.pyspark.fallback.enabled' is set to true.\n  warn(msg)\n/databricks/spark/python/pyspark/sql/pandas/conversion.py:467: UserWarning: createDataFrame attempted Arrow optimization because 'spark.sql.execution.arrow.pyspark.enabled' is set to true; however, failed by the reason below:\n  Could not convert DenseVector([178.0, 1.0, 1.0, 0.0, 109.0, 4.0, 3.5591, 109.0, 4.5035, 0.0, 0.0, 65.0]) with type DenseVector: did not recognize Python value type when inferring an Arrow data type\nAttempting non-optimization as 'spark.sql.execution.arrow.pyspark.fallback.enabled' is set to true.\n  warn(msg)\n"
     ]
    }
   ],
   "source": [
    "# Convert Spark DataFrame to Pandas for SMOTE\n",
    "trainDF_pandas = trainDF.select(\"features\", \"fraud\").toPandas()\n",
    "X = pd.DataFrame(trainDF_pandas[\"features\"].tolist(), columns=[f\"feature_{i}\" for i in range(len(trainDF_pandas[\"features\"][0]))])\n",
    "y = trainDF_pandas[\"fraud\"]\n",
    "\n",
    "# Handle missing/infinite values\n",
    "X.replace([np.inf, -np.inf], np.nan, inplace=True)\n",
    "X.fillna(X.mean(), inplace=True)\n",
    "\n",
    "# Apply SMOTE\n",
    "smote = SMOTE(sampling_strategy=1.0, random_state=42)\n",
    "X_resampled, y_resampled = smote.fit_resample(X, y)\n",
    "\n",
    "# Reassemble resampled data into Spark-compatible format\n",
    "resampled_pandas = pd.concat([X_resampled, pd.Series(y_resampled, name=\"label\")], axis=1)\n",
    "resampled_pandas[\"features\"] = resampled_pandas.iloc[:, :-1].apply(lambda row: Vectors.dense(row), axis=1)\n",
    "balanced_data = spark.createDataFrame(resampled_pandas[[\"features\", \"label\"]])\n"
   ]
  },
  {
   "cell_type": "code",
   "execution_count": 0,
   "metadata": {
    "application/vnd.databricks.v1+cell": {
     "cellMetadata": {
      "byteLimit": 2048000,
      "rowLimit": 10000
     },
     "inputWidgets": {},
     "nuid": "0e1626d3-0fe5-4b29-81ed-378fa1a2dcf2",
     "showTitle": false,
     "tableResultSettingsMap": {},
     "title": ""
    }
   },
   "outputs": [
    {
     "output_type": "stream",
     "name": "stdout",
     "output_type": "stream",
     "text": [
      "Out[15]: [Row(features=DenseVector([110.6805, 0.0, 12.623, 6.5287, 86.131, 3.0, 5.6269, 205.0, 5.162, 14.7172, 1.0826, 13.8115]), label=1),\n Row(features=DenseVector([169.0, 0.0, 34.0, 14.0, 1.5226, 4.5226, 5.7848, 91.4774, 5.3663, 11.0, 0.0, 2.5226]), label=1),\n Row(features=DenseVector([69.9138, 1.0, 34.0517, 13.931, 0.0, 3.9655, 5.0677, 175.9138, 3.4629, 17.9483, 1.0182, 1.0]), label=1),\n Row(features=DenseVector([57.002, 0.0, 24.0, 13.0, 85.0, 3.0, 7.0264, 108.0, 5.8893, 14.0158, -0.4401, 9.0]), label=1),\n Row(features=DenseVector([96.773, 1.0, 13.7946, 7.454, 0.0, 5.6595, 5.4059, 116.1135, 4.2102, 10.8865, 1.9444, 1.8865]), label=1)]"
     ]
    }
   ],
   "source": [
    "balanced_data.tail(5)"
   ]
  },
  {
   "cell_type": "code",
   "execution_count": 0,
   "metadata": {
    "application/vnd.databricks.v1+cell": {
     "cellMetadata": {
      "byteLimit": 2048000,
      "rowLimit": 10000
     },
     "inputWidgets": {},
     "nuid": "0251ebe5-f510-4085-85c0-819c6e0d73de",
     "showTitle": false,
     "tableResultSettingsMap": {},
     "title": ""
    }
   },
   "outputs": [
    {
     "output_type": "stream",
     "name": "stdout",
     "output_type": "stream",
     "text": [
      "Row(label=0, count=468954)\n"
     ]
    },
    {
     "output_type": "display_data",
     "data": {
      "image/png": "[encoded data removed]"
     },
     "metadata": {
      "application/vnd.databricks.v1+output": {
       "addedWidgets": {},
       "arguments": {},
       "data": "data:image/png;base64,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\n",
       "datasetInfos": [],
       "metadata": {},
       "removedWidgets": [],
       "type": "image"
      }
     },
     "output_type": "display_data"
    }
   ],
   "source": [
    "# Calculate the counts of each fraud class\n",
    "fraud_counts = balanced_data.groupBy(\"label\").count()\n",
    "print(fraud_counts.head())\n",
    "\n",
    "# Convert to Pandas for plotting\n",
    "fraud_counts_pandas = fraud_counts.toPandas()\n",
    "\n",
    "plt.figure(figsize=(10, 6))\n",
    "sns.barplot(x='label', y='count', data=fraud_counts_pandas, color='blue')\n",
    "plt.title('Class Distribution')\n",
    "plt.xlabel('Fraud')\n",
    "plt.ylabel('Count')\n",
    "plt.show()"
   ]
  },
  {
   "cell_type": "markdown",
   "metadata": {
    "application/vnd.databricks.v1+cell": {
     "cellMetadata": {},
     "inputWidgets": {},
     "nuid": "97273ad1-0eeb-4b14-8fe5-2449bba8eb4c",
     "showTitle": false,
     "tableResultSettingsMap": {},
     "title": ""
    }
   },
   "source": [
    "#### Classes are now balanced"
   ]
  },
  {
   "cell_type": "markdown",
   "metadata": {
    "application/vnd.databricks.v1+cell": {
     "cellMetadata": {
      "byteLimit": 2048000,
      "rowLimit": 10000
     },
     "inputWidgets": {},
     "nuid": "2c9e6da6-7151-4b5d-b6c5-bbebeae42877",
     "showTitle": false,
     "tableResultSettingsMap": {},
     "title": ""
    }
   },
   "source": [
    "## Feature Scaling"
   ]
  },
  {
   "cell_type": "code",
   "execution_count": 0,
   "metadata": {
    "application/vnd.databricks.v1+cell": {
     "cellMetadata": {
      "byteLimit": 2048000,
      "rowLimit": 10000
     },
     "inputWidgets": {},
     "nuid": "4990a449-2a11-434c-93e7-22d1bcab14f0",
     "showTitle": false,
     "tableResultSettingsMap": {},
     "title": ""
    }
   },
   "outputs": [],
   "source": [
    "# --- Feature Scaling ---\n",
    "scaler = StandardScaler(inputCol=\"features\", outputCol=\"scaled_features\", withMean=True, withStd=True)"
   ]
  },
  {
   "cell_type": "markdown",
   "metadata": {
    "application/vnd.databricks.v1+cell": {
     "cellMetadata": {
      "byteLimit": 2048000,
      "rowLimit": 10000
     },
     "inputWidgets": {},
     "nuid": "8f0cfe9e-a812-41cc-bae3-67df148a2093",
     "showTitle": false,
     "tableResultSettingsMap": {},
     "title": ""
    }
   },
   "source": [
    "## Model Training"
   ]
  },
  {
   "cell_type": "code",
   "execution_count": 0,
   "metadata": {
    "application/vnd.databricks.v1+cell": {
     "cellMetadata": {
      "byteLimit": 2048000,
      "rowLimit": 10000
     },
     "inputWidgets": {},
     "nuid": "548a17c8-22b2-45d3-ba36-23af8ada09ca",
     "showTitle": false,
     "tableResultSettingsMap": {},
     "title": ""
    }
   },
   "outputs": [
    {
     "output_type": "stream",
     "name": "stdout",
     "output_type": "stream",
     "text": [
      "Logistic Regression ROC-AUC: 0.993623457459613\nPrecision-Recall AUC: 0.7286685480933472\n+-----+----------+------+\n|label|prediction| count|\n+-----+----------+------+\n|    1|       0.0|    55|\n|    0|       0.0|112829|\n|    1|       1.0|  1387|\n|    0|       1.0|  4489|\n+-----+----------+------+\n\n"
     ]
    }
   ],
   "source": [
    "# Logistic regression\n",
    "\n",
    "# --- Model Building ---\n",
    "lr = LogisticRegression(featuresCol=\"scaled_features\", labelCol=\"label\", maxIter=10)\n",
    "\n",
    "# Pipeline\n",
    "pipeline_lr = Pipeline(stages=[scaler, lr])\n",
    "\n",
    "# --- Model Training ---\n",
    "lr_model = pipeline_lr.fit(balanced_data)\n",
    "\n",
    "# --- Model Evaluation ---\n",
    "\n",
    "from pyspark.ml.evaluation import BinaryClassificationEvaluator\n",
    "from pyspark.ml.evaluation import BinaryClassificationEvaluator\n",
    "from pyspark.sql.functions import col\n",
    "\n",
    "evaluator = BinaryClassificationEvaluator(labelCol=\"label\", rawPredictionCol=\"probability\", metricName=\"areaUnderROC\")\n",
    "predictions_lr = lr_model.transform(testDF)\n",
    "roc_auc_lr = evaluator.evaluate(predictions_lr)\n",
    "print(f\"Logistic Regression ROC-AUC: {roc_auc_lr}\")\n",
    "\n",
    "pr_auc_evaluator = BinaryClassificationEvaluator(labelCol=\"label\", metricName=\"areaUnderPR\")\n",
    "pr_auc = pr_auc_evaluator.evaluate(predictions_lr)\n",
    "print(f\"Precision-Recall AUC: {pr_auc}\")\n",
    "\n",
    "# Generate a confusion matrix\n",
    "\n",
    "conf_matrix = predictions_lr.select(\"label\", \"prediction\").groupBy(\"label\", \"prediction\").count().show()\n",
    "\n"
   ]
  },
  {
   "cell_type": "code",
   "execution_count": 0,
   "metadata": {
    "application/vnd.databricks.v1+cell": {
     "cellMetadata": {
      "byteLimit": 2048000,
      "rowLimit": 10000
     },
     "inputWidgets": {},
     "nuid": "d98a5901-107a-420a-a252-bd85d3675fc3",
     "showTitle": false,
     "tableResultSettingsMap": {},
     "title": ""
    }
   },
   "outputs": [
    {
     "output_type": "stream",
     "name": "stdout",
     "output_type": "stream",
     "text": [
      "Random Forest ROC-AUC: 0.9947769601589515\nPrecision-Recall AUC: 0.7258510643677442\n+-----+----------+------+\n|label|prediction| count|\n+-----+----------+------+\n|    1|       0.0|    23|\n|    0|       0.0|112849|\n|    1|       1.0|  1419|\n|    0|       1.0|  4469|\n+-----+----------+------+\n\n"
     ]
    }
   ],
   "source": [
    "# Random Forest Classifier\n",
    "# --- Model Building ---\n",
    "rf = RandomForestClassifier(featuresCol=\"scaled_features\", labelCol=\"label\", numTrees=50)\n",
    "\n",
    "# Pipeline\n",
    "pipeline_rf = Pipeline(stages=[scaler, rf])\n",
    "\n",
    "# --- Model Training ---\n",
    "rf_model = pipeline_rf.fit(balanced_data)\n",
    "\n",
    "# --- Model Evaluation ---\n",
    "\n",
    "from pyspark.ml.evaluation import BinaryClassificationEvaluator\n",
    "from pyspark.ml.evaluation import BinaryClassificationEvaluator\n",
    "from pyspark.sql.functions import col\n",
    "\n",
    "evaluator = BinaryClassificationEvaluator(labelCol=\"label\", rawPredictionCol=\"probability\", metricName=\"areaUnderROC\")\n",
    "predictions_rf = rf_model.transform(testDF)\n",
    "roc_auc_rf = evaluator.evaluate(predictions_rf)\n",
    "print(f\"Random Forest ROC-AUC: {roc_auc_rf}\")\n",
    "\n",
    "pr_auc_evaluator = BinaryClassificationEvaluator(labelCol=\"label\", metricName=\"areaUnderPR\")\n",
    "pr_auc = pr_auc_evaluator.evaluate(predictions_rf)\n",
    "print(f\"Precision-Recall AUC: {pr_auc}\")\n",
    "\n",
    "# Generate a confusion matrix\n",
    "\n",
    "conf_matrix = predictions_rf.select(\"label\", \"prediction\").groupBy(\"label\", \"prediction\").count().show()"
   ]
  },
  {
   "cell_type": "code",
   "execution_count": 0,
   "metadata": {
    "application/vnd.databricks.v1+cell": {
     "cellMetadata": {
      "byteLimit": 2048000,
      "rowLimit": 10000
     },
     "inputWidgets": {},
     "nuid": "626bf0b8-b280-4382-b601-02a89a810e09",
     "showTitle": false,
     "tableResultSettingsMap": {},
     "title": ""
    }
   },
   "outputs": [
    {
     "output_type": "display_data",
     "data": {
      "image/png": "[encoded data removed]"
     },
     "metadata": {
      "application/vnd.databricks.v1+output": {
       "addedWidgets": {},
       "arguments": {},
       "data": "data:image/png;base64,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\n",
       "datasetInfos": [],
       "metadata": {},
       "removedWidgets": [],
       "type": "image"
      }
     },
     "output_type": "display_data"
    }
   ],
   "source": [
    "# List of feature columns used in VectorAssembler\n",
    "feature_columns = [col + \"_Index\" for col in categoricalCols] + numeric_columns\n",
    "\n",
    "# Extract coefficients from the Logistic Regression model\n",
    "coefficients = lr_model.stages[-1].coefficients.toArray()  # Accessing the last stage (LogisticRegressionModel)\n",
    "\n",
    "# Sort coefficients in descending order\n",
    "importance = np.abs(coefficients)\n",
    "indices = np.argsort(importance)[::-1]\n",
    "\n",
    "# Plotting the top 10 most important features\n",
    "top_n = 10\n",
    "plt.figure(figsize=(10, 6))\n",
    "plt.barh(range(top_n), importance[indices[:top_n]], align='center')\n",
    "plt.yticks(range(top_n), np.array(feature_columns)[indices[:top_n]])  # Use feature_columns\n",
    "plt.xlabel('Coefficient Magnitude')\n",
    "plt.title('Top 10 Most Important Features')\n",
    "plt.gca().invert_yaxis() \n",
    "plt.show()\n"
   ]
  },
  {
   "cell_type": "markdown",
   "metadata": {
    "application/vnd.databricks.v1+cell": {
     "cellMetadata": {},
     "inputWidgets": {},
     "nuid": "4f97bb83-f5d5-4e87-9c8e-d7084b8a5e6b",
     "showTitle": false,
     "tableResultSettingsMap": {},
     "title": ""
    }
   },
   "source": [
    "#### Average Transaction amount emerges as the most important factor for detecting the fraud transactions"
   ]
  },
  {
   "cell_type": "code",
   "execution_count": 0,
   "metadata": {
    "application/vnd.databricks.v1+cell": {
     "cellMetadata": {
      "byteLimit": 2048000,
      "rowLimit": 10000
     },
     "inputWidgets": {},
     "nuid": "5e206478-0eb9-4223-8a31-9a8dac7ed8fd",
     "showTitle": false,
     "tableResultSettingsMap": {},
     "title": ""
    }
   },
   "outputs": [
    {
     "output_type": "stream",
     "name": "stdout",
     "output_type": "stream",
     "text": [
      "Gradient Boosting ROC-AUC: 0.9957352834463293\nGradient Boosting Precision-Recall AUC: 0.8705667062886998\n+-----+----------+------+\n|label|prediction| count|\n+-----+----------+------+\n|    1|       0.0|    77|\n|    0|       0.0|115296|\n|    1|       1.0|  1365|\n|    0|       1.0|  2022|\n+-----+----------+------+\n\n"
     ]
    }
   ],
   "source": [
    "from pyspark.ml.classification import GBTClassifier\n",
    "\n",
    "# --- Gradient Boosting Classifier ---\n",
    "gbt = GBTClassifier(featuresCol=\"scaled_features\", labelCol=\"label\", maxIter=50)\n",
    "\n",
    "# Pipeline\n",
    "pipeline_gbt = Pipeline(stages=[scaler, gbt])\n",
    "\n",
    "# --- Model Training ---\n",
    "gbt_model = pipeline_gbt.fit(balanced_data)\n",
    "\n",
    "# --- Model Evaluation ---\n",
    "predictions_gbt = gbt_model.transform(testDF)\n",
    "\n",
    "roc_auc_gbt = evaluator.evaluate(predictions_gbt)\n",
    "print(f\"Gradient Boosting ROC-AUC: {roc_auc_gbt}\")\n",
    "\n",
    "pr_auc_gbt = pr_auc_evaluator.evaluate(predictions_gbt)\n",
    "print(f\"Gradient Boosting Precision-Recall AUC: {pr_auc_gbt}\")\n",
    "\n",
    "# Confusion Matrix\n",
    "predictions_gbt.select(\"label\", \"prediction\").groupBy(\"label\", \"prediction\").count().show()\n",
    "\n"
   ]
  },
  {
   "cell_type": "code",
   "execution_count": 0,
   "metadata": {
    "application/vnd.databricks.v1+cell": {
     "cellMetadata": {
      "byteLimit": 2048000,
      "rowLimit": 10000
     },
     "inputWidgets": {},
     "nuid": "748df223-18ad-46cc-8385-42571dd46646",
     "showTitle": false,
     "tableResultSettingsMap": {},
     "title": ""
    }
   },
   "outputs": [
    {
     "output_type": "stream",
     "name": "stderr",
     "output_type": "stream",
     "text": [
      "/databricks/spark/python/pyspark/sql/pandas/conversion.py:122: UserWarning: toPandas attempted Arrow optimization because 'spark.sql.execution.arrow.pyspark.enabled' is set to true; however, failed by the reason below:\n  Unable to convert the field scaled_features. If this column is not necessary, you may consider dropping it or converting to primitive type before the conversion.\nDirect cause: Unsupported type in conversion to Arrow: VectorUDT()\nAttempting non-optimization as 'spark.sql.execution.arrow.pyspark.fallback.enabled' is set to true.\n  warn(msg)\n/databricks/spark/python/pyspark/sql/pandas/conversion.py:122: UserWarning: toPandas attempted Arrow optimization because 'spark.sql.execution.arrow.pyspark.enabled' is set to true; however, failed by the reason below:\n  Unable to convert the field scaled_features. If this column is not necessary, you may consider dropping it or converting to primitive type before the conversion.\nDirect cause: Unsupported type in conversion to Arrow: VectorUDT()\nAttempting non-optimization as 'spark.sql.execution.arrow.pyspark.fallback.enabled' is set to true.\n  warn(msg)\n/local_disk0/.ephemeral_nfs/envs/pythonEnv-a8d03295-c0e4-4511-be14-7d34410c1b87/lib/python3.9/site-packages/xgboost/core.py:158: UserWarning: [20:32:32] WARNING: /workspace/src/learner.cc:740: \nParameters: { \"use_label_encoder\" } are not used.\n\n  warnings.warn(smsg, UserWarning)\n"
     ]
    },
    {
     "output_type": "stream",
     "name": "stdout",
     "output_type": "stream",
     "text": [
      "XGBoost ROC-AUC: 0.9987212937776976\nXGBoost Precision-Recall AUC: 0.9369687925565893\nConfusion Matrix:\n[[117133    185]\n [   212   1230]]\n"
     ]
    }
   ],
   "source": [
    "import xgboost as xgb\n",
    "from xgboost import XGBClassifier\n",
    "from sklearn.metrics import roc_auc_score, precision_recall_curve, auc, confusion_matrix\n",
    "\n",
    "# --- Feature Scaling ---\n",
    "scaler = StandardScaler(inputCol=\"features\", outputCol=\"scaled_features\", withMean=True, withStd=True)\n",
    "\n",
    "# Apply StandardScaler to Training and Test Data\n",
    "scaler_model = scaler.fit(balanced_data)  # Train on balanced dataset\n",
    "scaled_train_data = scaler_model.transform(balanced_data)  # Scale the training data\n",
    "scaled_test_data = scaler_model.transform(testDF)  # Scale the test data\n",
    "\n",
    "# Convert scaled training data to Pandas for XGBoost\n",
    "train_data_pandas = scaled_train_data.select(\"scaled_features\", \"label\").toPandas()\n",
    "X_train = np.array(train_data_pandas[\"scaled_features\"].tolist())\n",
    "y_train = train_data_pandas[\"label\"].values\n",
    "\n",
    "# Convert scaled test data to Pandas for XGBoost\n",
    "test_data_pandas = scaled_test_data.select(\"scaled_features\", \"label\").toPandas()\n",
    "X_test = np.array(test_data_pandas[\"scaled_features\"].tolist())\n",
    "y_test = test_data_pandas[\"label\"].values\n",
    "\n",
    "# --- Model Training ---\n",
    "# Initialize and train the XGBoost model\n",
    "xgb_model = XGBClassifier(\n",
    "    objective='binary:logistic',  # For binary classification\n",
    "    eval_metric='logloss',       # Evaluation metric\n",
    "    use_label_encoder=False,     # Disable label encoding warnings\n",
    "    scale_pos_weight=len(y_train[y_train == 0]) / len(y_train[y_train == 1]),  # Handle class imbalance\n",
    "    random_state=42\n",
    ")\n",
    "\n",
    "xgb_model.fit(X_train, y_train)\n",
    "\n",
    "# --- Model Evaluation ---\n",
    "# Predict probabilities for test data\n",
    "y_pred_proba = xgb_model.predict_proba(X_test)[:, 1]\n",
    "\n",
    "# Calculate ROC-AUC\n",
    "roc_auc_xgb = roc_auc_score(y_test, y_pred_proba)\n",
    "print(f\"XGBoost ROC-AUC: {roc_auc_xgb}\")\n",
    "\n",
    "# Calculate Precision-Recall AUC\n",
    "precision, recall, _ = precision_recall_curve(y_test, y_pred_proba)\n",
    "pr_auc_xgb = auc(recall, precision)\n",
    "print(f\"XGBoost Precision-Recall AUC: {pr_auc_xgb}\")\n",
    "\n",
    "# Confusion Matrix\n",
    "y_pred = xgb_model.predict(X_test)\n",
    "conf_matrix = confusion_matrix(y_test, y_pred)\n",
    "print(\"Confusion Matrix:\")\n",
    "print(conf_matrix)\n",
    "\n"
   ]
  },
  {
   "cell_type": "code",
   "execution_count": 0,
   "metadata": {
    "application/vnd.databricks.v1+cell": {
     "cellMetadata": {
      "byteLimit": 2048000,
      "rowLimit": 10000
     },
     "inputWidgets": {},
     "nuid": "b100c1ea-328f-4ead-912f-1e0204ae18f7",
     "showTitle": false,
     "tableResultSettingsMap": {},
     "title": ""
    }
   },
   "outputs": [
    {
     "output_type": "stream",
     "name": "stdout",
     "output_type": "stream",
     "text": [
      "XGBoost ROC-AUC: 0.9987212937776976\nXGBoost Precision-Recall AUC: 0.9369687925565893\nConfusion Matrix:\n[[117133    185]\n [   212   1230]]\n"
     ]
    }
   ],
   "source": [
    "# --- Model Evaluation ---\n",
    "# Predict probabilities for test data\n",
    "y_pred_proba = xgb_model.predict_proba(X_test)[:, 1]\n",
    "\n",
    "# Calculate ROC-AUC\n",
    "roc_auc_xgb = roc_auc_score(y_test, y_pred_proba)\n",
    "print(f\"XGBoost ROC-AUC: {roc_auc_xgb}\")\n",
    "\n",
    "# Calculate Precision-Recall AUC\n",
    "precision, recall, _ = precision_recall_curve(y_test, y_pred_proba)\n",
    "pr_auc_xgb = auc(recall, precision)\n",
    "print(f\"XGBoost Precision-Recall AUC: {pr_auc_xgb}\")\n",
    "\n",
    "# Confusion Matrix\n",
    "y_pred = xgb_model.predict(X_test)\n",
    "conf_matrix = confusion_matrix(y_test, y_pred)\n",
    "print(\"Confusion Matrix:\")\n",
    "print(conf_matrix)"
   ]
  }
 ],
 "metadata": {
  "application/vnd.databricks.v1+notebook": {
   "computePreferences": null,
   "dashboards": [],
   "environmentMetadata": null,
   "language": "python",
   "notebookMetadata": {
    "pythonIndentUnit": 4
   },
   "notebookName": "Fraud_Detection_CodeFile",
   "widgets": {}
  }
 },
 "nbformat": 4,
 "nbformat_minor": 0
}
